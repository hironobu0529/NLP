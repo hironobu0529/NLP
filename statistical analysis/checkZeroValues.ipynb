{
 "cells": [
  {
   "cell_type": "code",
   "execution_count": 1,
   "id": "92134ef4-bd0b-47f9-b02b-9934aba28fc8",
   "metadata": {},
   "outputs": [],
   "source": [
    "import pandas as pd"
   ]
  },
  {
   "cell_type": "code",
   "execution_count": 2,
   "id": "566f03d3-bed0-473b-8ed5-d49dfdb3b141",
   "metadata": {},
   "outputs": [],
   "source": [
    "df = pd.read_csv(\"df_merge_impute.csv\")"
   ]
  },
  {
   "cell_type": "code",
   "execution_count": 3,
   "id": "169f4f80-8918-4a7f-aa3e-478d7dadb31a",
   "metadata": {},
   "outputs": [
    {
     "name": "stdout",
     "output_type": "stream",
     "text": [
      "['appos', 'clf', 'conj', 'dislocated', 'expl', 'flat', 'goeswith', 'iobj', 'list', 'orphan', 'parataxis', 'punct', 'vocative', 'xcomp']\n"
     ]
    }
   ],
   "source": [
    "# 例: df が対象の DataFrame の場合\n",
    "zero_cols = df.columns[(df == 0).all()]\n",
    "zero_cols_list = zero_cols.tolist()\n",
    "\n",
    "print(zero_cols_list)"
   ]
  },
  {
   "cell_type": "markdown",
   "id": "fe87ce50-8bfb-4722-a689-306199518edc",
   "metadata": {},
   "source": [
    "# list up: "
   ]
  },
  {
   "cell_type": "code",
   "execution_count": 7,
   "id": "e8d79e44-68a5-42bc-83f8-d41ddbb88433",
   "metadata": {},
   "outputs": [
    {
     "data": {
      "text/plain": [
       "['Unnamed: 0',\n",
       " 'ID',\n",
       " 'Visit',\n",
       " 'Part',\n",
       " 'senti_sim_mean',\n",
       " 'senti_sim_var',\n",
       " 'senti_sim_sd',\n",
       " 'senti_sim_max',\n",
       " 'senti_sim_min',\n",
       " 'senti_sim_med',\n",
       " 'perseveration',\n",
       " 'duplicates_adj',\n",
       " 'duplicates_rate_adj',\n",
       " 'unique_num_adj',\n",
       " 'w2V_adj_mean',\n",
       " 'w2V_adj_variance',\n",
       " 'w2V_adj_SD',\n",
       " 'w2V_adj_MAX',\n",
       " 'w2V_adj_MIN',\n",
       " 'w2V_adj_median',\n",
       " 'num_morhpheme',\n",
       " 'num_NOUN',\n",
       " 'num_PROPN',\n",
       " 'num_VERB',\n",
       " 'num_ADJ',\n",
       " 'num_ADV',\n",
       " 'num_INTJ',\n",
       " 'num_PRON',\n",
       " 'num_NUM',\n",
       " 'num_AUX',\n",
       " 'num_CCONJ',\n",
       " 'num_SCONJ',\n",
       " 'num_DET',\n",
       " 'num_ADP',\n",
       " 'num_PART',\n",
       " 'num_PUNCT',\n",
       " 'num_SYM',\n",
       " 'num_intj_general',\n",
       " 'num_intj_filler',\n",
       " 'num_kakujoshi',\n",
       " 'num_fukujoshi',\n",
       " 'num_kakarijoshi',\n",
       " 'num_setuzokujoshi',\n",
       " 'num_shuujoshi',\n",
       " 'num_rentaishi',\n",
       " 'num_settouji',\n",
       " 'num_setsubiji',\n",
       " 'num_person',\n",
       " 'num_god',\n",
       " 'num_place',\n",
       " 'num_time',\n",
       " 'acl',\n",
       " 'advcl',\n",
       " 'advmod',\n",
       " 'amod',\n",
       " 'appos',\n",
       " 'aux',\n",
       " 'case',\n",
       " 'cc',\n",
       " 'ccomp',\n",
       " 'clf',\n",
       " 'compound',\n",
       " 'conj',\n",
       " 'cop',\n",
       " 'csubj',\n",
       " 'dep',\n",
       " 'det',\n",
       " 'discourse',\n",
       " 'dislocated',\n",
       " 'expl',\n",
       " 'fixed',\n",
       " 'flat',\n",
       " 'goeswith',\n",
       " 'iobj',\n",
       " 'list',\n",
       " 'mark',\n",
       " 'nmod',\n",
       " 'nsubj',\n",
       " 'nummod',\n",
       " 'obj',\n",
       " 'obl',\n",
       " 'orphan',\n",
       " 'parataxis',\n",
       " 'punct',\n",
       " 'reparandum',\n",
       " 'root',\n",
       " 'vocative',\n",
       " 'xcomp',\n",
       " 'max_depth',\n",
       " 'num_nodes',\n",
       " 'num_leaves',\n",
       " 'total_distance',\n",
       " 'avg_sentence_length',\n",
       " 'avg_word_length',\n",
       " 'num_sentences',\n",
       " 'redundancy',\n",
       " 'duplicates',\n",
       " 'duplicate_rate',\n",
       " 'w2Vsim_mean',\n",
       " 'w2Vsim_variance',\n",
       " 'w2Vsim_SD',\n",
       " 'w2Vsim_MAX',\n",
       " 'w2Vsim_MIN',\n",
       " 'w2Vsim_median',\n",
       " 'unique_num',\n",
       " 'number_of_nodes',\n",
       " 'words_nodes_ratio',\n",
       " 'cluster_coefficient',\n",
       " 'average_closeness_centrality',\n",
       " 'average_distance',\n",
       " 'diameter',\n",
       " 'density',\n",
       " 'senti_sim_mean_rrb',\n",
       " 'senti_sim_var_rrb',\n",
       " 'senti_sim_sd_rrb',\n",
       " 'senti_sim_max_rrb',\n",
       " 'senti_sim_min_rrb',\n",
       " 'senti_sim_med_rrb',\n",
       " 'perseveration_rrb',\n",
       " 'max_nesting_relation_CEJCminus',\n",
       " 'max_nesting_depth_CEJCminus',\n",
       " 'total_nesting_depth_CEJCminus',\n",
       " 'max_tree_height_CEJCminus',\n",
       " 'total_num_nodes_CEJCminus',\n",
       " 'total_num_leaves_CEJCminus',\n",
       " 'total_distance_CEJCminus',\n",
       " 'total_tree_height_CEJCminus']"
      ]
     },
     "execution_count": 7,
     "metadata": {},
     "output_type": "execute_result"
    }
   ],
   "source": [
    "list(df)"
   ]
  },
  {
   "cell_type": "code",
   "execution_count": 8,
   "id": "821d24d0-78b8-45e4-ae33-bbe84e415447",
   "metadata": {},
   "outputs": [
    {
     "data": {
      "text/plain": [
       "127"
      ]
     },
     "execution_count": 8,
     "metadata": {},
     "output_type": "execute_result"
    }
   ],
   "source": [
    "len(list(df))"
   ]
  },
  {
   "cell_type": "code",
   "execution_count": 9,
   "id": "8a90bac7-6389-4a0b-bb35-1acaaf0c7383",
   "metadata": {},
   "outputs": [
    {
     "data": {
      "text/plain": [
       "14"
      ]
     },
     "execution_count": 9,
     "metadata": {},
     "output_type": "execute_result"
    }
   ],
   "source": [
    "len(zero_cols_list)"
   ]
  },
  {
   "cell_type": "code",
   "execution_count": 10,
   "id": "7edf54aa-bfe3-43d5-9c45-382e7ba3a772",
   "metadata": {},
   "outputs": [],
   "source": [
    "var_list=[\n",
    "'senti_sim_mean_normalized',\n",
    " 'senti_sim_var_normalized',\n",
    " 'duplicates_rate_adj_normalized',\n",
    " 'w2V_adj_mean_normalized',\n",
    " 'w2V_adj_variance_normalized',\n",
    " 'num_morhpheme_normalized',\n",
    " 'avg_sentence_length_normalized',\n",
    " 'avg_word_length_normalized',\n",
    " 'num_sentences_normalized',\n",
    " 'redundancy_normalized',\n",
    " 'w2Vsim_mean_normalized',\n",
    " 'w2Vsim_variance_normalized',\n",
    " 'cluster_coefficient_normalized',\n",
    " 'average_closeness_centrality_normalized',\n",
    " 'average_distance_normalized',\n",
    " 'diameter_normalized',\n",
    " 'density_normalized',\n",
    " 'senti_sim_mean_rrb_normalized',\n",
    " 'senti_sim_var_rrb_normalized',\n",
    " 'max_nesting_relation_CEJCminus_normalized',\n",
    " 'max_nesting_depth_CEJCminus_normalized',\n",
    " 'max_tree_height_CEJCminus_normalized',\n",
    " 'perseveration_ratio_normalized',\n",
    " 'duplicates_adj_ratio_normalized',\n",
    " 'unique_num_adj_ratio_normalized',\n",
    " 'num_NOUN_ratio_normalized',\n",
    " 'num_PROPN_ratio_normalized',\n",
    " 'num_VERB_ratio_normalized',\n",
    " 'num_ADJ_ratio_normalized',\n",
    " 'num_ADV_ratio_normalized',\n",
    " 'num_INTJ_ratio_normalized',\n",
    " 'num_PRON_ratio_normalized',\n",
    " 'num_NUM_ratio_normalized',\n",
    " 'num_AUX_ratio_normalized',\n",
    " 'num_CCONJ_ratio_normalized',\n",
    " 'num_SCONJ_ratio_normalized',\n",
    " 'num_DET_ratio_normalized',\n",
    " 'num_ADP_ratio_normalized',\n",
    " 'num_PART_ratio_normalized',\n",
    " 'num_PUNCT_ratio_normalized',\n",
    " 'num_SYM_ratio_normalized',\n",
    " 'num_intj_general_ratio_normalized',\n",
    " 'num_intj_filler_ratio_normalized',\n",
    " 'num_kakujoshi_ratio_normalized',\n",
    " 'num_fukujoshi_ratio_normalized',\n",
    " 'num_kakarijoshi_ratio_normalized',\n",
    " 'num_setuzokujoshi_ratio_normalized',\n",
    " 'num_shuujoshi_ratio_normalized',\n",
    " 'num_rentaishi_ratio_normalized',\n",
    " 'num_settouji_ratio_normalized',\n",
    " 'num_setsubiji_ratio_normalized',\n",
    " 'num_person_ratio_normalized',\n",
    " 'num_god_ratio_normalized',\n",
    " 'num_place_ratio_normalized',\n",
    " 'num_time_ratio_normalized',\n",
    " 'acl_ratio_normalized',\n",
    " 'advcl_ratio_normalized',\n",
    " 'advmod_ratio_normalized',\n",
    " 'amod_ratio_normalized',\n",
    " 'case_ratio_normalized',\n",
    " 'cc_ratio_normalized',\n",
    " 'ccomp_ratio_normalized',\n",
    " 'compound_ratio_normalized',\n",
    " 'csubj_ratio_normalized',\n",
    " 'discourse_ratio_normalized',\n",
    " 'mark_ratio_normalized',\n",
    " 'nmod_ratio_normalized',\n",
    " 'nsubj_ratio_normalized',\n",
    " 'obj_ratio_normalized',\n",
    " 'obl_ratio_normalized',\n",
    " 'reparandum_ratio_normalized',\n",
    " 'duplicates_ratio_normalized',\n",
    " 'unique_num_ratio_normalized',\n",
    " 'perseveration_rrb_ratio_normalized',\n",
    " 'total_nesting_depth_CEJCminus_ratio_normalized',\n",
    " 'total_num_nodes_CEJCminus_ratio_normalized',\n",
    " 'total_num_leaves_CEJCminus_ratio_normalized',\n",
    " 'total_distance_CEJCminus_ratio_normalized',\n",
    " 'total_tree_height_CEJCminus_ratio_normalized']\n",
    "\n",
    "# farocto_analysis_part1_R7Aug10: pca_var_listと一致させる"
   ]
  },
  {
   "cell_type": "code",
   "execution_count": 11,
   "id": "25583a6f-da19-42f0-a1c4-1e8a47049f37",
   "metadata": {},
   "outputs": [
    {
     "data": {
      "text/plain": [
       "81"
      ]
     },
     "execution_count": 11,
     "metadata": {},
     "output_type": "execute_result"
    }
   ],
   "source": [
    "len(var_list)"
   ]
  },
  {
   "cell_type": "code",
   "execution_count": null,
   "id": "90aca5ca-f23a-44a9-935a-ebfe443abacd",
   "metadata": {},
   "outputs": [],
   "source": []
  }
 ],
 "metadata": {
  "kernelspec": {
   "display_name": "Python 3 (ipykernel)",
   "language": "python",
   "name": "python3"
  },
  "language_info": {
   "codemirror_mode": {
    "name": "ipython",
    "version": 3
   },
   "file_extension": ".py",
   "mimetype": "text/x-python",
   "name": "python",
   "nbconvert_exporter": "python",
   "pygments_lexer": "ipython3",
   "version": "3.8.20"
  }
 },
 "nbformat": 4,
 "nbformat_minor": 5
}
